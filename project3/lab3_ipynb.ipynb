{
  "nbformat": 4,
  "nbformat_minor": 0,
  "metadata": {
    "accelerator": "GPU",
    "colab": {
      "name": "“lab3.ipynb”的副本",
      "provenance": [],
      "collapsed_sections": [
        "m6eH3NKaQQfc"
      ],
      "toc_visible": true,
      "machine_shape": "hm"
    },
    "kernelspec": {
      "display_name": "Python 3",
      "name": "python3"
    }
  },
  "cells": [
    {
      "cell_type": "markdown",
      "metadata": {
        "id": "QHnVupBBn9eR"
      },
      "source": [
        "\n",
        "# Assignment 3\n",
        "\n",
        "This is a template notebook for Assignment 3.\n"
      ]
    },
    {
      "cell_type": "markdown",
      "metadata": {
        "id": "vM54r6jlKTII"
      },
      "source": [
        "## Install dependencies and initialization"
      ]
    },
    {
      "cell_type": "code",
      "metadata": {
        "id": "9_FzH13EjseR"
      },
      "source": [
        "# install dependencies: \n",
        "!pip install pyyaml==5.1 pycocotools>=2.0.1\n",
        "!pip install detectron2 -f https://dl.fbaipublicfiles.com/detectron2/wheels/cu101/torch1.6/index.html"
      ],
      "execution_count": null,
      "outputs": []
    },
    {
      "cell_type": "code",
      "metadata": {
        "id": "dqAUb5Y12qXt"
      },
      "source": [
        "!pwd # shows current directory\n",
        "!ls  # shows all files in this directory\n",
        "!nvidia-smi # shows the specs and the current status of the allocated GPU"
      ],
      "execution_count": null,
      "outputs": []
    },
    {
      "cell_type": "code",
      "metadata": {
        "id": "b-i4hmGYk1dL"
      },
      "source": [
        "# import some common libraries\n",
        "from google.colab.patches import cv2_imshow\n",
        "from sklearn.metrics import jaccard_score\n",
        "from PIL import Image, ImageDraw\n",
        "from tqdm.notebook import tqdm\n",
        "import pandas as pd\n",
        "import numpy as np\n",
        "import datetime\n",
        "import random\n",
        "import json\n",
        "import cv2\n",
        "import csv\n",
        "import os\n",
        "import matplotlib.pyplot as plt\n",
        "import matplotlib.cm as cm\n",
        "import tensorflow as tf\n",
        "# import some common pytorch utilities\n",
        "from torch.utils.data import Dataset, DataLoader\n",
        "import torchvision.transforms as transforms\n",
        "from torch.autograd import Variable\n",
        "import torch.nn.functional as F\n",
        "import torch.nn as nn\n",
        "import torch\n",
        "import copy\n",
        "# import some common detectron2 utilities\n",
        "import detectron2\n",
        "from detectron2.data import detection_utils as utils\n",
        "from detectron2 import model_zoo\n",
        "from detectron2.config import get_cfg\n",
        "from detectron2.structures import BoxMode\n",
        "from detectron2.engine import DefaultTrainer\n",
        "from detectron2.engine import DefaultPredictor\n",
        "from detectron2.utils.logger import setup_logger\n",
        "from detectron2.utils.visualizer import ColorMode\n",
        "from detectron2.utils.visualizer import Visualizer\n",
        "from detectron2.data import build_detection_test_loader,build_detection_train_loader\n",
        "from detectron2.data import MetadataCatalog, DatasetCatalog\n",
        "from detectron2.evaluation import COCOEvaluator, inference_on_dataset\n",
        "from detectron2.data import transforms as T\n",
        "setup_logger()"
      ],
      "execution_count": null,
      "outputs": []
    },
    {
      "cell_type": "code",
      "metadata": {
        "id": "tUA_j6AF1L5Y"
      },
      "source": [
        "# Make sure that GPU is available for your notebook. \n",
        "# Otherwise, you need to update the settungs in Runtime -> Change runtime type -> Hardware accelerator\n",
        "torch.cuda.is_available()"
      ],
      "execution_count": null,
      "outputs": []
    },
    {
      "cell_type": "code",
      "metadata": {
        "id": "ZyAvNCJMmvFF"
      },
      "source": [
        "# You need to mount your google drive in order to load the data:\n",
        "from google.colab import drive\n",
        "drive.mount('/content/drive')\n",
        "# Put all the corresponding data files in a data folder and put the data folder in a same directory with this notebook.\n",
        "# Also create an output directory for your files such as the trained models and the output images."
      ],
      "execution_count": null,
      "outputs": []
    },
    {
      "cell_type": "code",
      "metadata": {
        "id": "A_Di_fgL4HSv"
      },
      "source": [
        "# Define the location of current directory, which should contain data/train, data/test, and data/train.json.\n",
        "# TODO: approx 1 line\n",
        "BASE_DIR = '/content/drive/My Drive/CMPT_CV_lab3'\n",
        "OUTPUT_DIR = '{}/output'.format(BASE_DIR)\n",
        "os.makedirs(OUTPUT_DIR, exist_ok=True)"
      ],
      "execution_count": 6,
      "outputs": []
    },
    {
      "cell_type": "markdown",
      "metadata": {
        "id": "Vk4gID50K03a"
      },
      "source": [
        "## Part 1: Object Detection"
      ]
    },
    {
      "cell_type": "markdown",
      "metadata": {
        "id": "xRV-KFJzlur4"
      },
      "source": [
        "### Data Loader"
      ]
    },
    {
      "cell_type": "code",
      "metadata": {
        "id": "dq9GY37ml1kr"
      },
      "source": [
        "'''\n",
        "# This function should return a list of data samples in which each sample is a dictionary. \n",
        "# Make sure to select the correct bbox_mode for the data\n",
        "# For the test data, you only have access to the images, therefore, the annotations should be empty.\n",
        "# Other values could be obtained from the image files.\n",
        "# TODO: approx 35 lines\n",
        "'''\n",
        "\n",
        "def get_detection_data(set_name):\n",
        "  #img = Image.open(data[\"file_name\"])\n",
        "  data_dirs = '{}/data'.format(BASE_DIR)\n",
        "  train_dirs = '{}/data/train'.format(BASE_DIR)\n",
        "  test_dirs = '{}/data/test'.format(BASE_DIR)\n",
        "  dataset = []\n",
        "  json_file = os.path.join(data_dirs, \"train.json\")\n",
        "  with open(json_file) as f:\n",
        "    imgs_anns = json.load(f)\n",
        "\n",
        "  dataset_dicts = []\n",
        "  objs = []\n",
        "  count = 0\n",
        "  name_change = \"\"\n",
        "  if set_name == \"test\":             \n",
        "      for filenames in os.listdir(test_dirs):\n",
        "        record = {}  \n",
        "        if filenames.endswith(\".png\"):\n",
        "          filename = os.path.join(test_dirs, filenames)\n",
        "          img = Image.open(filename)\n",
        "          width, height = img.size\n",
        "          record[\"file_name\"] = filename\n",
        "          record[\"height\"] = height\n",
        "          record[\"width\"] = width\n",
        "          obj = {}\n",
        "          #objs.append(obj)\n",
        "          record[\"annotations\"] =objs\n",
        "          dataset.append(record) \n",
        "      ##loop through all pic in file \n",
        "  else:\n",
        "    for i in range(len(imgs_anns)):\n",
        "      #print(count)\n",
        "      count+=1\n",
        "      v = imgs_anns[i]\n",
        "      record = {}\n",
        "\n",
        "\n",
        "      filename = os.path.join(train_dirs, v[\"file_name\"])\n",
        "\n",
        "      if name_change!=filename:\n",
        "        dataset.append(record)\n",
        "        objs = []\n",
        "        name_change = filename\n",
        "      img = Image.open(filename)\n",
        "\n",
        "      width, height = img.size\n",
        "        \n",
        "      record[\"file_name\"] = filename\n",
        "      record[\"image_id\"] = v[\"image_id\"]\n",
        "      #print(v[\"image_id\"])\n",
        "      record[\"height\"] = height\n",
        "      record[\"width\"] = width\n",
        "\n",
        "      obj = {\n",
        "                \"bbox\": v[\"bbox\"],\n",
        "                \"bbox_mode\": BoxMode.XYWH_ABS,\n",
        "                \"segmentation\": v[\"segmentation\"],\n",
        "                \"category_id\": 0,\n",
        "        }\n",
        "      objs.append(obj)\n",
        "      record[\"annotations\"] = objs\n",
        "      \n",
        "\n",
        "  return dataset"
      ],
      "execution_count": 7,
      "outputs": []
    },
    {
      "cell_type": "code",
      "metadata": {
        "id": "xCH-2mWxDVVu"
      },
      "source": [
        "'''\n",
        "# Remember to add your dataset to DatasetCatalog and MetadataCatalog\n",
        "# Consdier \"data_detection_train\" and \"data_detection_test\" for registration\n",
        "# You can also add an optional \"data_detection_val\" for your validation by spliting the training data\n",
        "# TODO: approx 5 lines\n",
        "'''\n",
        "\n",
        "for d in [\"train\", \"val\",\"test\"]:\n",
        "  DatasetCatalog.register(\"plane_\" + d, lambda d=d: get_detection_data(d))\n",
        "  MetadataCatalog.get(\"plane_\" + d).set(thing_classes=[\"plane\"])\n",
        "balloon_metadata = MetadataCatalog.get(\"plane_train\")"
      ],
      "execution_count": 8,
      "outputs": []
    },
    {
      "cell_type": "code",
      "metadata": {
        "id": "qNSdXCL_DVAz"
      },
      "source": [
        "'''\n",
        "# Visualize some samples using Visualizer to make sure that the function works correctly\n",
        "# TODO: approx 5 lines\n",
        "'''\n",
        "dataset_dicts = get_detection_data(\"train\")\n",
        "for d in random.sample(dataset_dicts, 3):\n",
        "    #print(d[\"file_name\"])\n",
        "    img = cv2.imread(d[\"file_name\"])\n",
        "    \n",
        "    visualizer = Visualizer(img[:, :, ::-1], metadata=balloon_metadata, scale=0.5)\n",
        "    out = visualizer.draw_dataset_dict(d)\n",
        "    cv2_imshow(out.get_image()[:, :, ::-1])\n"
      ],
      "execution_count": null,
      "outputs": []
    },
    {
      "cell_type": "markdown",
      "metadata": {
        "id": "uM1thbN-ntjI"
      },
      "source": [
        "### Set Configs"
      ]
    },
    {
      "cell_type": "code",
      "metadata": {
        "id": "HUjkwRsOn1O0"
      },
      "source": [
        "'''\n",
        "# Set the configs for the detection part in here.\n",
        "# TODO: approx 15 lines\n",
        "'''\n",
        "cfg = get_cfg()\n",
        "cfg.OUTPUT_DIR = \"{}/output/\".format(BASE_DIR)\n",
        "\n",
        "#cfg.merge_from_file(model_zoo.get_config_file(\"COCO-Detection/faster_rcnn_R_101_FPN_3x.yaml\"))\n",
        "cfg.merge_from_file(model_zoo.get_config_file(\"COCO-Detection/faster_rcnn_X_101_32x8d_FPN_3x.yaml\"))\n",
        "cfg.DATASETS.TRAIN = (\"plane_train\",)\n",
        "cfg.DATASETS.TEST = (\"plane_test\",)\n",
        "\n",
        "cfg.DATALOADER.NUM_WORKERS = 4\n",
        "#cfg.MODEL.WEIGHTS = model_zoo.get_checkpoint_url(\"COCO-Detection/faster_rcnn_R_101_FPN_3x.yaml\")  # Let training initialize from model zoo\n",
        "cfg.MODEL.WEIGHTS = model_zoo.get_checkpoint_url(\"COCO-Detection/faster_rcnn_X_101_32x8d_FPN_3x.yaml\")  # Let training initialize from model zoo\n",
        "cfg.SOLVER.IMS_PER_BATCH = 2\n",
        "cfg.SOLVER.BASE_LR = 0.00025 \n",
        "cfg.SOLVER.MAX_ITER = 7000  \n",
        "cfg.MODEL.ROI_HEADS.BATCH_SIZE_PER_IMAGE = 512   \n",
        "cfg.MODEL.ROI_HEADS.NUM_CLASSES = 1  \n",
        "\n"
      ],
      "execution_count": 9,
      "outputs": []
    },
    {
      "cell_type": "markdown",
      "metadata": {
        "id": "Rc3WKezN6mgX"
      },
      "source": [
        ""
      ]
    },
    {
      "cell_type": "markdown",
      "metadata": {
        "id": "P4rql8pNokE4"
      },
      "source": [
        "### Training"
      ]
    },
    {
      "cell_type": "code",
      "metadata": {
        "id": "ZXEUZ_dYJiC_"
      },
      "source": [
        "\"\"\"\n",
        "custom data augmentation\n",
        "\"\"\"\n",
        "def custom_mapper(dataset_dict):\n",
        "  dataset_dict = copy.deepcopy(dataset_dict)\n",
        "  image = utils.read_image(dataset_dict[\"file_name\"], format=\"BGR\")\n",
        "  transform_list = [\n",
        "                    T.RandomBrightness(0.8, 1.8),\n",
        "                    T.RandomContrast(0.6, 1.3),\n",
        "                    T.RandomSaturation(0.8, 1.4),\n",
        "                    T.RandomLighting(0.7),\n",
        "                      T.Resize((512,512)),\n",
        "                      T.RandomFlip(prob=0.5, horizontal=False, vertical=True),\n",
        "                      T.RandomFlip(prob=0.5, horizontal=True, vertical=False), \n",
        "            ]\n",
        "  image, transforms = T.apply_transform_gens(transform_list, image)\n",
        "  dataset_dict[\"image\"] = torch.as_tensor(image.transpose(2, 0, 1).astype(\"float32\"))\n",
        "  annos = [\n",
        "        utils.transform_instance_annotations(obj, transforms, image.shape[:2])\n",
        "        for obj in dataset_dict.pop(\"annotations\")\n",
        "        if obj.get(\"iscrowd\", 0) == 0\n",
        "    ]\n",
        "  instances = utils.annotations_to_instances(annos, image.shape[:2])\n",
        "  dataset_dict[\"instances\"] = utils.filter_empty_instances(instances)\n",
        "  return dataset_dict"
      ],
      "execution_count": null,
      "outputs": []
    },
    {
      "cell_type": "code",
      "metadata": {
        "id": "fR3Zz0MLfTvG"
      },
      "source": [
        "class CustomTrainer(DefaultTrainer):\n",
        "    @classmethod\n",
        "    def build_train_loader(cls, cfg):\n",
        "        return build_detection_train_loader(cfg, mapper=custom_mapper)"
      ],
      "execution_count": null,
      "outputs": []
    },
    {
      "cell_type": "code",
      "metadata": {
        "id": "7d3KxiHO_0gb"
      },
      "source": [
        "'''\n",
        "# Create a DefaultTrainer using the above config and train the model\n",
        "# TODO: approx 5 lines\n",
        "'''\n",
        "os.makedirs(cfg.OUTPUT_DIR, exist_ok=True)\n",
        "trainer = DefaultTrainer(cfg) \n",
        "#trainer = CustomTrainer(cfg)\n",
        "trainer.resume_or_load(resume=True)   #default False\n",
        "\n",
        "trainer.train()\n",
        "\n"
      ],
      "execution_count": null,
      "outputs": []
    },
    {
      "cell_type": "markdown",
      "metadata": {
        "id": "fRVEiICco3SV"
      },
      "source": [
        "### Evaluation and Visualization"
      ]
    },
    {
      "cell_type": "code",
      "metadata": {
        "id": "VYCIXdMZvDYL"
      },
      "source": [
        "'''\n",
        "# After training the model, you need to update cfg.MODEL.WEIGHTS\n",
        "# Define a DefaultPredictor\n",
        "'''\n",
        "cfg.MODEL.WEIGHTS = os.path.join(cfg.OUTPUT_DIR, \"model_final.pth\")  # path to the model we just trained\n",
        "cfg.MODEL.ROI_HEADS.SCORE_THRESH_TEST = 0.6   # set a custom testing threshold\n",
        "predictor = DefaultPredictor(cfg)"
      ],
      "execution_count": 11,
      "outputs": []
    },
    {
      "cell_type": "code",
      "metadata": {
        "id": "_hRCf86KGi5v"
      },
      "source": [
        "'''\n",
        "# Visualize the output for 3 random test samples\n",
        "# TODO: approx 10 lines\n",
        "'''\n",
        "dataset_dicts = get_detection_data(\"test\")\n",
        "for d in random.sample(dataset_dicts, 3):  \n",
        "    \n",
        "    im = cv2.imread(d[\"file_name\"])\n",
        "    outputs = predictor(im)  # format is documented at https://detectron2.readthedocs.io/tutorials/models.html#model-output-format\n",
        "\n",
        "    #print(outputs[\"instances\"])\n",
        "\n",
        "    \n",
        "    \n",
        "    #print(one_img)\n",
        "    v = Visualizer(im[:, :, ::-1],\n",
        "                   metadata=balloon_metadata, \n",
        "                   scale=0.3, \n",
        "                    # remove the colors of unsegmented pixels. This option is only available for segmentation models\n",
        "    )\n",
        "    out = v.draw_instance_predictions(outputs[\"instances\"].to(\"cpu\"))\n",
        "    cv2_imshow(out.get_image()[:, :, ::-1])"
      ],
      "execution_count": null,
      "outputs": []
    },
    {
      "cell_type": "code",
      "metadata": {
        "id": "p76deUINmoDV"
      },
      "source": [
        "\"\"\"  \n",
        "dataset_dicts = get_detection_data(\"test\")\n",
        "sample1 = dataset_dicts[1]\n",
        "sample2 = dataset_dicts[4]\n",
        "sample3 = dataset_dicts[25]\n",
        "im = cv2.imread(sample1[\"file_name\"])\n",
        "#cv2.imwrite(\"predictor1.png\", im)\n",
        "im2 = cv2.imread(sample2[\"file_name\"])\n",
        "#cv2.imwrite(\"predictor2.png\", im2)\n",
        "im3 = cv2.imread(sample3[\"file_name\"])\n",
        "#cv2.imwrite(\"predictor3.png\", im3)\n",
        "\n",
        "\n",
        "\n",
        "outputs = predictor(im3)  # format is documented at https://detectron2.readthedocs.io/tutorials/models.html#model-output-format\n",
        "\n",
        "\n",
        "v = Visualizer(im3[:, :, ::-1],\n",
        "                   metadata=balloon_metadata, \n",
        "                   scale=0.3, \n",
        "                    # remove the colors of unsegmented pixels. This option is only available for segmentation models\n",
        "    )\n",
        "out = v.draw_instance_predictions(outputs[\"instances\"].to(\"cpu\"))\n",
        "cv2_imshow(out.get_image()[:, :, ::-1])\n",
        "cv2.imwrite(\"predictor3.png\", out.get_image()[:, :, ::-1])\n",
        "\"\"\""
      ],
      "execution_count": null,
      "outputs": []
    },
    {
      "cell_type": "code",
      "metadata": {
        "id": "D0wRdlcKo6BD"
      },
      "source": [
        "'''\n",
        "# Use COCOEvaluator and build_detection_train_loader\n",
        "# You can save the output predictions using inference_on_dataset\n",
        "# TODO: approx 5 lines\n",
        "'''\n",
        "print(OUTPUT_DIR)\n",
        "\n",
        "evaluator = COCOEvaluator(\"plane_train\", cfg, False, output_dir= \"./output/\")\n",
        "val_loader = build_detection_test_loader(cfg, \"plane_train\")\n",
        "print(inference_on_dataset(trainer.model, val_loader, evaluator))"
      ],
      "execution_count": null,
      "outputs": []
    },
    {
      "cell_type": "markdown",
      "metadata": {
        "id": "EwYvbwcjpKBk"
      },
      "source": [
        "### Improvements\n",
        "\n",
        "For this part, you can bring any improvement which you have by adding new input parameters to the previous functions or defining new functions and variables."
      ]
    },
    {
      "cell_type": "code",
      "metadata": {
        "id": "xdR6KbCZpOlk"
      },
      "source": [
        "'''\n",
        "# Bring any changes and updates regarding the improvement in here\n",
        "'''\n"
      ],
      "execution_count": null,
      "outputs": []
    },
    {
      "cell_type": "markdown",
      "metadata": {
        "id": "98_M4TooqSs2"
      },
      "source": [
        "## Part 2: Semantic Segmentation"
      ]
    },
    {
      "cell_type": "markdown",
      "metadata": {
        "id": "ByAEsMtIPLrO"
      },
      "source": [
        "### Data Loader"
      ]
    },
    {
      "cell_type": "code",
      "metadata": {
        "id": "jsUJwc-m52ZR"
      },
      "source": [
        "### caching test data, must run before proceed \n",
        "test_crop = []\n",
        "test_dicts = get_detection_data(\"test\")\n",
        "#count = 0\n",
        "for pic in test_dicts:\n",
        "  #if count == 1:\n",
        "    #break\n",
        "  record = {}\n",
        "  record[\"file_name\"] = pic[\"file_name\"]\n",
        "\n",
        "  objs = []\n",
        "\n",
        "  print(pic[\"file_name\"])\n",
        "  img = cv2.imread(pic[\"file_name\"])\n",
        "  outputs = predictor(img)\n",
        "  pil_img = Image.open(pic[\"file_name\"])\n",
        "  for i in range(len(outputs[\"instances\"])):\n",
        "    #print(i)\n",
        "    one_plane = outputs[\"instances\"][i].pred_boxes\n",
        "    one_plane = one_plane.tensor[0].cpu().numpy()\n",
        "    height = (one_plane[2])\n",
        "    width = (one_plane[3])\n",
        "    im1 = pil_img.crop((one_plane[0], one_plane[1], height, width))\n",
        "    obj_img = im1.resize((128,128),Image.ANTIALIAS)\n",
        "\n",
        "    obj_mask = np.zeros((128,128))\n",
        "    \n",
        "\n",
        "    #print(obj_mask.size)\n",
        "    #print(obj_img.size)\n",
        "    obj_img = np.resize(obj_img,(128,128,3))\n",
        "\n",
        "    obj = {\n",
        "        \"bbox\":one_plane,\n",
        "        \"obj_img\":obj_img,\n",
        "        \"obj_mask\":obj_mask,\n",
        "    }  \n",
        "    objs.append(obj)\n",
        "  #count +=1\n",
        "\n",
        "  record[\"annotations\"]=objs\n",
        "  test_crop.append(record)    \n",
        "    #print(one_plane)"
      ],
      "execution_count": null,
      "outputs": []
    },
    {
      "cell_type": "code",
      "metadata": {
        "id": "Uh85hzvmroyx"
      },
      "source": [
        "### caching train data, must run before proceed \n",
        "image_croppingset = get_detection_data(\"train\")\n",
        "cropped = []\n",
        "for v in image_croppingset:\n",
        "  record = {}\n",
        "  record[\"file_name\"] = v[\"file_name\"]\n",
        "  img = Image.open(v[\"file_name\"])\n",
        "  objs = []\n",
        "  for i in v[\"annotations\"]:\n",
        "    img_seg = i[\"segmentation\"]\n",
        "    img_bbox = i[\"bbox\"]\n",
        "    height = int(img_bbox[2])\n",
        "    width = int(img_bbox[3])\n",
        "    new_seg = []\n",
        "  \n",
        "  \n",
        "    for i in img_seg:\n",
        "      new_row = []\n",
        "      for j in range(0,len(i)-1,2):\n",
        "        i[j] = i[j]-img_bbox[0]\n",
        "        i[j+1] = i[j+1]-img_bbox[1]\n",
        "        new_row.append(i[j])\n",
        "        new_row.append(i[j+1])\n",
        "      new_seg.append(new_row)        \n",
        "    im1 = img.crop((img_bbox[0], img_bbox[1], img_bbox[0]+height, img_bbox[1]+width))\n",
        "    obj_img = im1.resize((128,128),Image.ANTIALIAS)\n",
        "    obj_img = np.resize(obj_img,(128,128,3)) \n",
        "    obj_mask = detectron2.utils.visualizer.GenericMask(new_seg,width,height).mask\n",
        "    obj_mask = cv2.resize(obj_mask, (128, 128))\n",
        "    obj = {\n",
        "        \"obj_img\":obj_img,\n",
        "        \"obj_mask\":obj_mask,\n",
        "    }\n",
        "   \n",
        "    objs.append(obj)     \n",
        "  record[\"annotations\"]=objs\n",
        "  cropped.append(record)   \n",
        "\"\"\"\n",
        "plt.imshow(cropped[2][\"annotations\"][1][\"obj_img\"], cmap='gray')\n",
        "plt.figure()\n",
        "plt.imshow(cropped[2][\"annotations\"][1][\"obj_mask\"], cmap='gray')\n",
        "plt.figure()\n",
        "  #display(cropped[0][\"annotations\"][0][\"obj_img\"])\n",
        "\"\"\""
      ],
      "execution_count": null,
      "outputs": []
    },
    {
      "cell_type": "code",
      "metadata": {
        "id": "Vz_-VDScLdFS"
      },
      "source": [
        "print(len(image_croppingset))\n",
        "print(len(test_crop))"
      ],
      "execution_count": null,
      "outputs": []
    },
    {
      "cell_type": "code",
      "metadata": {
        "id": "peQ95zLuIpkk"
      },
      "source": [
        "'''\n",
        "# Write a function that returns the cropped image and corresponding mask regarding the target bounding box\n",
        "# idx is the index of the target bbox in the data\n",
        "# high-resolution image could be passed or could be load from data['file_name']\n",
        "# You can use detectron2.utils.visualizer.GenericMask to convert the segmentation annotations to binary masks\n",
        "# TODO: approx 10 lines\n",
        "'''\n",
        "\n",
        "def get_instance_sample(data, idx, prepared_imageset):\n",
        "  for i in prepared_imageset:\n",
        "    if i[\"file_name\"] == data[\"file_name\"]:\n",
        "      #obj_img = i[\"annotations\"][idx[1]][\"obj_img\"]\n",
        "      #obj_mask = i[\"annotations\"][idx[1]][\"obj_mask\"]\n",
        "      obj_img = i[\"annotations\"][idx][\"obj_img\"]\n",
        "      obj_mask = i[\"annotations\"][idx][\"obj_mask\"]\n",
        "      #print(obj_mask.size)\n",
        "      break\n",
        "  return obj_img, obj_mask\n",
        "\n",
        "\n"
      ],
      "execution_count": null,
      "outputs": []
    },
    {
      "cell_type": "code",
      "metadata": {
        "id": "YxBx3r_-2Wzy"
      },
      "source": [
        "\"\"\" Test test obj_img\n",
        "my_data_list = DatasetCatalog.get(\"plane_{}\".format('test'))\n",
        "sample = my_data_list[0]\n",
        "print(len(test_crop[2][\"annotations\"]))\n",
        "someimg, somemask = get_instance_sample(sample, 0, test_crop)\n",
        "plt.imshow(someimg, cmap='gray')\n",
        "\n",
        "plt.figure()\n",
        "\"\"\""
      ],
      "execution_count": null,
      "outputs": []
    },
    {
      "cell_type": "code",
      "metadata": {
        "id": "sxrc9X_pjzj-"
      },
      "source": [
        "\n",
        "'''\n",
        "# We have provided a template data loader for your segmentation training\n",
        "# You need to complete the __getitem__() function before running the code\n",
        "# You may also need to add data augmentation or normalization in here\n",
        "'''\n",
        "\n",
        "class PlaneDataset(Dataset):\n",
        "  def __init__(self, set_name, data_list,prepared_imageset):\n",
        "      self.transforms = transforms.Compose([\n",
        "          transforms.ToTensor(), # Converting the image to tensor and change the image format (Channels-Last => Channels-First)\n",
        "      ])\n",
        "      self.set_name = set_name\n",
        "      self.data = data_list\n",
        "      self.predata = prepared_imageset\n",
        "      #print(data_list)\n",
        "      self.instance_map = []\n",
        "      #print(self.data[0])\n",
        "      for i, d in enumerate(self.data):\n",
        "        #print(d)\n",
        "        for j in range(len(d['annotations'])):\n",
        "          self.instance_map.append([i,j])\n",
        "          \"\"\"\n",
        "          if i == 0:\n",
        "            print(i)\n",
        "            print(j)\n",
        "          \"\"\"\n",
        "  '''\n",
        "  # you can change the value of length to a small number like 10 for debugging of your training procedure and overfeating\n",
        "  # make sure to use the correct length for the final training\n",
        "  '''\n",
        "  def __len__(self):\n",
        "      #return 50\n",
        "      return len(self.instance_map)\n",
        "\n",
        "  def numpy_to_tensor(self, img, mask):\n",
        "    if self.transforms is not None:\n",
        "        img = self.transforms(img)\n",
        "    img = torch.tensor(img, dtype=torch.float)\n",
        "    mask = torch.tensor(mask, dtype=torch.float)\n",
        "    return img, mask\n",
        "\n",
        "  '''\n",
        "  # Complete this part by using get_instance_sample function\n",
        "  # make sure to resize the img and mask to a fixed size (for example 128*128)\n",
        "  # you can use \"interpolate\" function of pytorch or \"numpy.resize\"\n",
        "  # TODO: 5 lines\n",
        "  '''\n",
        "  def __getitem__(self, idx):\n",
        "    if torch.is_tensor(idx):\n",
        "        idx = idx.tolist()\n",
        "    idx = self.instance_map[idx]\n",
        "    data = self.data[idx[0]]\n",
        "    ann_index = idx[1]\n",
        "    img, mask = get_instance_sample(data, ann_index, self.predata)\n",
        "\n",
        "    img, mask = self.numpy_to_tensor(img, mask)\n",
        "    img = img.reshape((3,128,128))\n",
        "    mask = mask.reshape((1,128,128))\n",
        "\n",
        "    return img, mask\n",
        "\n",
        "def get_plane_dataset(set_name, prepared_imageset,batch_size=2):\n",
        "    my_data_list = DatasetCatalog.get(\"plane_{}\".format(set_name))\n",
        "    dataset = PlaneDataset(set_name, my_data_list,prepared_imageset)\n",
        "    loader = DataLoader(dataset, batch_size=batch_size, num_workers=4,\n",
        "                                              pin_memory=True, shuffle=True)\n",
        "    return loader, dataset\n",
        "\n",
        "def get_prediction_dataset(set_name, data_list,prepared_imageset,batch_size=2):\n",
        "\n",
        "\n",
        "    dataset = PlaneDataset(set_name, data_list,prepared_imageset)\n",
        "\n",
        "    loader = DataLoader(dataset, batch_size=batch_size, num_workers=4,\n",
        "                                              pin_memory=True, shuffle=False)\n",
        "    return loader, dataset"
      ],
      "execution_count": null,
      "outputs": []
    },
    {
      "cell_type": "markdown",
      "metadata": {
        "id": "m6eH3NKaQQfc"
      },
      "source": [
        "### Network"
      ]
    },
    {
      "cell_type": "code",
      "metadata": {
        "id": "PeqR3s3dSBPN"
      },
      "source": [
        "'''\n",
        "# convolution module as a template layer consists of conv2d layer, batch normalization, and relu activation\n",
        "'''\n",
        "class conv(nn.Module):\n",
        "    def __init__(self, in_ch, out_ch, activation=True):\n",
        "        super(conv, self).__init__()\n",
        "        if(activation):\n",
        "          self.layer = nn.Sequential(\n",
        "             nn.Conv2d(in_ch, out_ch, 3, padding=1),\n",
        "             nn.BatchNorm2d(out_ch),\n",
        "             nn.ReLU(inplace=True)\n",
        "          )\n",
        "        else:\n",
        "          self.layer = nn.Sequential(\n",
        "             nn.Conv2d(in_ch, out_ch, 3, padding=1)  \n",
        "             )\n",
        "\n",
        "    def forward(self, x):\n",
        "        x = self.layer(x)\n",
        "        return x\n",
        "\n",
        "'''\n",
        "# downsampling module equal to a conv module followed by a max-pool layer\n",
        "'''\n",
        "\n",
        "class down(nn.Module):\n",
        "    def __init__(self, in_ch, out_ch):\n",
        "        super(down, self).__init__()\n",
        "        self.layer = nn.Sequential(\n",
        "            conv(in_ch, out_ch),\n",
        "            conv(out_ch, out_ch),\n",
        "\n",
        "            nn.MaxPool2d(2),\n",
        "\n",
        "            \n",
        "\n",
        "            )\n",
        "\n",
        "    def forward(self, x):\n",
        "        x = self.layer(x)\n",
        "        return x\n",
        "\n",
        "'''\n",
        "# upsampling module equal to a upsample function followed by a conv module\n",
        "'''\n",
        "class up(nn.Module):\n",
        "    def __init__(self, in_ch, out_ch, bilinear=False):\n",
        "        super(up, self).__init__()\n",
        "        if bilinear:\n",
        "            self.up = nn.Upsample(scale_factor=2, mode='bilinear', align_corners=True)\n",
        "        else:\n",
        "            self.up = nn.ConvTranspose2d(in_ch, in_ch, 2, stride=2)\n",
        "\n",
        "        self.conv = conv(in_ch, out_ch)\n",
        "\n",
        "    def forward(self, x):\n",
        "        y = self.up(x)\n",
        "        y = self.conv(y)\n",
        "        return y\n",
        "\n",
        "'''\n",
        "# the main model which you need to complete by using above modules.\n",
        "# you can also modify the above modules in order to improve your results.\n",
        "'''\n",
        "class MyModel(nn.Module):\n",
        "    def __init__(self):\n",
        "        super(MyModel, self).__init__()\n",
        "        \n",
        "        # Encoder\n",
        "        \n",
        "        self.input_conv = conv(3, 32)\n",
        "        self.down = down(32, 64)\n",
        "        self.down1 = down(64, 128)\n",
        "        self.down2 = down(128, 256)\n",
        "        self.down3 = down(256, 512)\n",
        "        # Decoder\n",
        "\n",
        "        self.up = up(512, 256)\n",
        "        self.up1 = up(256, 128)\n",
        "        self.up2 = up(128, 64)\n",
        "        self.up3 = up(64, 4)\n",
        "        #self.up4 = up(32, 4)\n",
        "        self.output_conv = conv(4, 1, False) # ReLu activation is removed to keep the logits for the loss function\n",
        "        \n",
        "\n",
        "    def forward(self, input):\n",
        "      y = self.input_conv(input)\n",
        "      y = self.down(y)\n",
        "      y = self.down1(y)\n",
        "      y = self.down2(y)\n",
        "      y = self.down3(y)\n",
        "      y = self.up(y)\n",
        "      y = self.up1(y)\n",
        "      y = self.up2(y)\n",
        "      y = self.up3(y)\n",
        "      #y = self.up4(y)\n",
        "      output = self.output_conv(y)\n",
        "      return output"
      ],
      "execution_count": null,
      "outputs": []
    },
    {
      "cell_type": "markdown",
      "metadata": {
        "id": "rQj86vD9QT_Z"
      },
      "source": [
        "### Training"
      ]
    },
    {
      "cell_type": "code",
      "metadata": {
        "id": "MaZuO4SKSBuF"
      },
      "source": [
        "'''\n",
        "# The following is a basic training procedure to train the network\n",
        "# You need to update the code to get the best performance\n",
        "# TODO: approx ? lines\n",
        "'''\n",
        "\n",
        "# Set the hyperparameters\n",
        "num_epochs = 250\n",
        "batch_size = 4\n",
        "learning_rate = 0.001\n",
        "weight_decay = 1e-5\n",
        "\n",
        "model = MyModel() # initialize the model\n",
        "model = model.cuda() # move the model to GPU\n",
        "loader, _ = get_plane_dataset('train', cropped,batch_size) # initialize data_loader\n",
        "crit = nn.BCEWithLogitsLoss() # Define the loss function\n",
        "optim = torch.optim.Adam(model.parameters(), lr=learning_rate, weight_decay=weight_decay) # Initialize the optimizer as Adam\n",
        "\n",
        "# start the training procedure\n",
        "for epoch in range(num_epochs):\n",
        "  total_loss = 0\n",
        "  for (img, mask) in tqdm(loader):\n",
        "    img = torch.tensor(img, device=torch.device('cuda'), requires_grad = True)\n",
        "    mask = torch.tensor(mask, device=torch.device('cuda'), requires_grad = True)\n",
        "    pred = model(img)\n",
        "    loss = crit(pred, mask)\n",
        "    optim.zero_grad()\n",
        "    loss.backward()\n",
        "    optim.step()\n",
        "    total_loss += loss.cpu().data\n",
        "  print(\"Epoch: {}, Loss: {}\".format(epoch, total_loss/len(loader)))\n",
        "  torch.save(model.state_dict(), '{}/output/{}_segmentation_model.pth'.format(BASE_DIR, epoch))\n",
        "\n",
        "'''\n",
        "# Saving the final model\n",
        "'''\n",
        "torch.save(model.state_dict(), '{}/output/final_segmentation_model.pth'.format(BASE_DIR))\n"
      ],
      "execution_count": null,
      "outputs": []
    },
    {
      "cell_type": "markdown",
      "metadata": {
        "id": "0dyez1fyQYw7"
      },
      "source": [
        "### Evaluation and Visualization"
      ]
    },
    {
      "cell_type": "code",
      "metadata": {
        "id": "TDeViryUSCL2"
      },
      "source": [
        "\"\"\"\n",
        "# Before starting the evaluation, you need to set the model mode to eval\n",
        "# You may load the trained model again, in case if you want to continue your code later\n",
        "# TODO: approx 15 lines\n",
        "\"\"\"\n",
        "batch_size = 8\n",
        "model = MyModel().cuda()\n",
        "model.load_state_dict(torch.load('{}/output/final_segmentation_model.pth'.format(BASE_DIR)))\n",
        "model = model.eval() # chaning the model to evaluation mode will fix the bachnorm layers\n",
        "loader, dataset = get_plane_dataset('train',cropped, batch_size)\n",
        "\n",
        "total_iou = 0\n",
        "count = 0\n",
        "overall_score = 0\n",
        "\n",
        "img_data = []\n",
        "mask_data = []\n",
        "pred_data = []\n",
        "\n",
        "for (img, mask) in tqdm(loader):\n",
        "  \n",
        "  with torch.no_grad():\n",
        "    img = img.cuda()\n",
        "    mask = mask.cuda()\n",
        "    #mask = torch.unsqueeze(mask,1)\n",
        "    pred = model(img)\n",
        "\n",
        "    '''\n",
        "    ## Complete the code by obtaining the IoU for each img and print the final Mean IoU\n",
        "    '''\n",
        "    m = nn.Sigmoid()\n",
        "    batch_size = pred.shape\n",
        "    \n",
        "    batch_count = 0\n",
        "\n",
        "    batch_score = 0\n",
        "  for batch in range(batch_size[0]):\n",
        "    img_original = img[batch].cpu()\n",
        "    img_original = img_original.numpy()\n",
        "    img_original = np.resize(img_original,(128,128))\n",
        "    img_data.append(img_original)\n",
        "\n",
        "\n",
        "\n",
        "    pred_mk = pred[batch].cpu()\n",
        "    pred_mk = m(pred_mk)\n",
        "    pred_mk = pred_mk.numpy()\n",
        "    pred_mk = np.squeeze(pred_mk,0)\n",
        "    for i in pred_mk:\n",
        "      i[i<0.4] = 0\n",
        "      i[i>= 0.4] = 1\n",
        "\n",
        "\n",
        "    pred_data.append(pred_mk)\n",
        "\n",
        "    mk = mask[batch].cpu()\n",
        "    mk = mk.numpy()\n",
        "    mk = np.resize(mk,(128,128))\n",
        "    mask_data.append(mk)\n",
        "\n",
        "\n",
        "    intersect = np.logical_and(pred_mk,mk)\n",
        "    union = np.logical_or(pred_mk,mk)\n",
        "    score = np.sum(intersect)/np.sum(union)    \n",
        "    overall_score += score\n",
        "    #batch_score += score\n",
        "    #batch_count+=1\n",
        "    count+=1\n",
        "  #print(batch_size[0])    \n",
        "  #print(batch_score/batch_count)\n",
        "\n",
        "print(\"IoU:\",overall_score/count)\n",
        "\n",
        "\n",
        "\n",
        "print(\"\\n #images: {}, Mean IoU: {}\".format(_, _))\n"
      ],
      "execution_count": null,
      "outputs": []
    },
    {
      "cell_type": "code",
      "metadata": {
        "id": "e2LhMmKSYQ7Z"
      },
      "source": [
        "\n",
        "\"\"\"   test eval\n",
        "m = nn.Sigmoid()\n",
        "batch_size = pred.shape\n",
        "count = 0\n",
        "overall_score = 0\n",
        "\n",
        "for batch in range(batch_size[0]):\n",
        "  img1 = pred[batch].cpu()\n",
        "  img1 = m(img1)\n",
        "  img1 = img1.numpy()\n",
        "  img1 = np.squeeze(img1,0)\n",
        "  for i in img1:\n",
        "  #print(i)\n",
        "    i[i<0.6] = 0\n",
        "    i[i>= 0.6] = 1\n",
        "  img = mask[batch].cpu()\n",
        "  img = img.numpy()\n",
        "  img = np.resize(img,(128,128))\n",
        "\n",
        "  plt.imshow(img, cmap='gray')\n",
        "  plt.figure()\n",
        "  plt.imshow(img1, cmap='gray')\n",
        "  plt.figure()\n",
        "  #display(img)\n",
        "  intersect = np.logical_and(img1,img)\n",
        "  union = np.logical_or(img1,img)\n",
        "  score = np.sum(intersect)/np.sum(union)\n",
        "  print(score)\n",
        "  overall_score += score\n",
        "  count +=1\n",
        "print(overall_score/count)\n",
        "\n",
        "#test = pred.shape\n",
        "#print(test[0])\n",
        "#plt.imshow(img, cmap='gray')\n",
        "#plt.imshow(img1, cmap='gray')\n",
        "#print(pred.shape)\n",
        "print(mask.shape)\n",
        "\"\"\""
      ],
      "execution_count": null,
      "outputs": []
    },
    {
      "cell_type": "code",
      "metadata": {
        "id": "jbmTj9JICiKz"
      },
      "source": [
        "'''\n",
        "# Visualize 3 sample outputs\n",
        "# TODO: approx 5 lines\n",
        "'''\n",
        "\n",
        "for i in range(3):\n",
        "  r = random.randint(0, len(mask_data)-1)\n",
        "\n",
        "  plt.imshow(img_data[r], cmap='gray')\n",
        "  plt.figure()\n",
        "  plt.imshow(mask_data[r], cmap='gray')\n",
        "  plt.figure()\n",
        "  plt.imshow(pred_data[r], cmap='gray')\n",
        "  plt.figure()"
      ],
      "execution_count": null,
      "outputs": []
    },
    {
      "cell_type": "markdown",
      "metadata": {
        "id": "navoiGdrqaZT"
      },
      "source": [
        "## Part 3: Instance Segmentation\n",
        "\n",
        "In this part, you need to obtain the instance segmentation results for the test data by using the trained segmentation model in the previous part and the detection model in Part 1."
      ]
    },
    {
      "cell_type": "markdown",
      "metadata": {
        "id": "vBwk33DGBowP"
      },
      "source": [
        "### Get Prediction"
      ]
    },
    {
      "cell_type": "code",
      "metadata": {
        "id": "crrZ8TG-Ot2J"
      },
      "source": [
        "'''\n",
        "# Define a new function to obtain the prediction mask by passing a sample data\n",
        "# For this part, you need to use all the previous parts (predictor, get_instance_sample, data preprocessings, etc)\n",
        "# TODO: approx 35 lines\n",
        "'''\n",
        "\n",
        "def get_prediction_mask(data,prepared_imageset):\n",
        "\n",
        "  sample = []\n",
        "\n",
        "  if len(data[\"annotations\"])==0:\n",
        "    for name in prepared_imageset:\n",
        "      if name[\"file_name\"] == data[\"file_name\"]:\n",
        "        for instance in name:\n",
        "          sample.append(name)\n",
        "\n",
        "  else:\n",
        "    sample.append(data)\n",
        "\n",
        "\n",
        "  \n",
        "  width = data[\"width\"]\n",
        "  height = data[\"height\"]\n",
        "  #print(width,height)\n",
        "  all_plane = []\n",
        "  for i in data[\"annotations\"]:\n",
        "    all_plane.append(i[\"segmentation\"][0])\n",
        "      #print(i[\"segmentation\"][0])\n",
        "    #print(all_plane)\n",
        "  if len(data[\"annotations\"])!=0:\n",
        "    gt_mask = detectron2.utils.visualizer.GenericMask(all_plane,height,width).mask\n",
        "  else:\n",
        "    gt_mask = None\n",
        "    \n",
        "\n",
        "\n",
        "  pred_data = []\n",
        "  batch_size = 8\n",
        "  model = MyModel().cuda()\n",
        "  model.load_state_dict(torch.load('{}/output/final_segmentation_model.pth'.format(BASE_DIR)))\n",
        "  model = model.eval() # chaning the model to evaluation mode will fix the bachnorm layers\n",
        "\n",
        "  loader, dataset = get_prediction_dataset(\"prediction\", sample,prepared_imageset,batch_size)\n",
        "\n",
        "  for (img, mask) in tqdm(loader):\n",
        " \n",
        "    with torch.no_grad():\n",
        "      img = img.cuda()\n",
        "      mask = mask.cuda()\n",
        "      #mask = torch.unsqueeze(mask,1)\n",
        "      pred = model(img)\n",
        "      m = nn.Sigmoid()\n",
        "      batch_size = pred.shape\n",
        "      #print(batch_size)\n",
        "    for batch in range(batch_size[0]):\n",
        "      #print(batch)\n",
        "      pred_mk = pred[batch].cpu()\n",
        "      pred_mk = m(pred_mk)\n",
        "      pred_mk = pred_mk.numpy()\n",
        "      pred_mk = np.squeeze(pred_mk,0)\n",
        "      for i in pred_mk:\n",
        "        i[i<0.4] = 0\n",
        "        i[i>= 0.4] = 1\n",
        "      pred_data.append(pred_mk)\n",
        "      #plt.imshow(pred_mk, cmap='gray')\n",
        "\n",
        "      #plt.figure()\n",
        "  \n",
        "\n",
        "  pred_mask = pred_data\n",
        "  gt = np.zeros((height, width))\n",
        "  for i in range(len(pred_data)):\n",
        "    row_count = 0\n",
        "    sample_width = int(data[\"annotations\"][i][\"bbox\"][3])\n",
        "    sample_height = int(data[\"annotations\"][i][\"bbox\"][2])\n",
        "    sample_x = int(data[\"annotations\"][i][\"bbox\"][0])\n",
        "    sample_y = int(data[\"annotations\"][i][\"bbox\"][1])\n",
        "    pred_data[i]= cv2.resize(pred_data[i],(sample_height,sample_width))\n",
        " \n",
        "    for y in pred_data[i]: \n",
        "      count=0 \n",
        "      for x in y:\n",
        "        if(x>0.5):\n",
        "          gt[row_count+sample_y,count+sample_x] = i+1\n",
        "\n",
        "        count+=1   \n",
        "\n",
        "      row_count+=1\n",
        "\n",
        "  img = Image.open(data[\"file_name\"])\n",
        "  \n",
        "  #img = torch.from_numpy(img)\n",
        "  if len(data[\"annotations\"])!=0:\n",
        "    gt_mask = torch.from_numpy(gt_mask)\n",
        "    \n",
        "  else:\n",
        "    gt_mask = gt\n",
        "  gt = torch.from_numpy(gt)\n",
        "  #print(torch.unique(gt))\n",
        "  gt = gt.cuda()\n",
        "  return img, gt_mask, gt\n",
        "  "
      ],
      "execution_count": null,
      "outputs": []
    },
    {
      "cell_type": "code",
      "metadata": {
        "id": "ve4nFKAVqZNx"
      },
      "source": [
        "### function for getting mask for test image\n",
        "def get_prediction_test(data,prepared_imageset):\n",
        "  original_img = Image.open(data[\"file_name\"])\n",
        "  filename = data[\"file_name\"]\n",
        "  sample = []\n",
        "  print(data[\"file_name\"])\n",
        "  for name in prepared_imageset:\n",
        "    if name[\"file_name\"] == data[\"file_name\"]:\n",
        "      sample.append(name)\n",
        "      for instance in name:\n",
        " \n",
        "        instance_sample = name\n",
        "\n",
        "  print(len(instance_sample[\"annotations\"]))\n",
        "\n",
        "  #plt.imshow(instance_sample[\"annotations\"][0][\"obj_img\"], cmap='gray')\n",
        "  #plt.figure()\n",
        "  width = data[\"width\"]\n",
        "  height = data[\"height\"]\n",
        "\n",
        "  gt_mask = None\n",
        "    \n",
        "  pred_data = []\n",
        "  batch_size = 8\n",
        "  model = MyModel().cuda()\n",
        "  model.load_state_dict(torch.load('{}/output/final_segmentation_model.pth'.format(BASE_DIR)))\n",
        "  model = model.eval() # chaning the model to evaluation mode will fix the bachnorm layers\n",
        "\n",
        "  loader, dataset = get_prediction_dataset(\"prediction\", sample,prepared_imageset, batch_size)\n",
        "\n",
        "  for (img, mask) in tqdm(loader):\n",
        "    \n",
        "    with torch.no_grad():\n",
        "      img = img.cuda()\n",
        "      #mask = mask.cuda()\n",
        "      #mask = torch.unsqueeze(mask,1)\n",
        "      pred = model(img)\n",
        "      m = nn.Sigmoid()\n",
        "      batch_size = pred.shape\n",
        "      batch_size =batch_size[0] \n",
        "    for batch in range(batch_size):\n",
        "      \n",
        "      #print(batch)\n",
        "      pred_mk = pred[batch].cpu()\n",
        "      pred_mk = m(pred_mk)\n",
        "      pred_mk = pred_mk.numpy()\n",
        "      pred_mk = np.squeeze(pred_mk,0)\n",
        "      #print(pred_mk.shape)\n",
        "      for i in pred_mk:\n",
        "        i[i<0.4] = 0\n",
        "        i[i>= 0.4] = 1\n",
        "      pred_data.append(pred_mk)\n",
        "\n",
        "    for s in prepared_imageset:\n",
        "      if s[\"file_name\"] == data[\"file_name\"]:\n",
        "        for i in range(len(pred_data)):\n",
        "          s[\"annotations\"][i][\"obj_mask\"] = pred_data[i]\n",
        "    #plt.imshow(pred_data[5], cmap='gray')\n",
        "\n",
        "    #plt.figure()\n",
        "\n",
        "  pred_mask = pred_data\n",
        "  #print(len(pred_data))\n",
        "  #print(height, width)\n",
        "  gt = np.zeros((height, width))\n",
        "\n",
        "  for i in range(len(pred_data)):\n",
        "\n",
        "\n",
        "    row_count = 0\n",
        "    #print(i)\n",
        "    sample_width = int(instance_sample[\"annotations\"][i][\"bbox\"][3])\n",
        "    sample_height = int(instance_sample[\"annotations\"][i][\"bbox\"][2])\n",
        "    sample_x = int(instance_sample[\"annotations\"][i][\"bbox\"][0])\n",
        "    sample_y = int(instance_sample[\"annotations\"][i][\"bbox\"][1])\n",
        "    pred_data[i]= cv2.resize(pred_data[i],(sample_height-sample_x,sample_width-sample_y))\n",
        "\n",
        "    for y in pred_data[i]: \n",
        "      count=0 \n",
        "      #print(len(y))\n",
        "      for x in y:\n",
        "        if(x>0.5):\n",
        "          #print(row_count,count)\n",
        "          #print(sample_y,sample_x)\n",
        "          #print(row_count+sample_y,count+sample_x)\n",
        "          gt[row_count+sample_y,count+sample_x] = i+1\n",
        "\n",
        "        count+=1   \n",
        "\n",
        "      row_count+=1\n",
        "\n",
        " \n",
        "\n",
        "  #img = torch.from_numpy(img)\n",
        "\n",
        "  gt_mask = gt\n",
        "  gt = torch.from_numpy(gt)\n",
        "  gt = gt.cuda()\n",
        "  return original_img, gt_mask, gt"
      ],
      "execution_count": null,
      "outputs": []
    },
    {
      "cell_type": "code",
      "metadata": {
        "id": "dHupOghL9m7_"
      },
      "source": [
        "\"\"\" test train image mask\n",
        "my_data_list = DatasetCatalog.get(\"plane_{}\".format('train'))\n",
        "sample = my_data_list[0]\n",
        "#print(len(sample[\"annotations\"]))\n",
        "img, gt_mask, pred_mask = get_prediction_mask(sample,cropped)\n",
        "\n",
        "plt.imshow(img, cmap='gray')\n",
        "\n",
        "plt.figure()\n",
        "\n",
        "plt.imshow(gt_mask, cmap='gray')\n",
        "#plt.imsave('filename.png', gt_mask, cmap=cm.gray)\n",
        "plt.figure()\n",
        "plt.imshow(pred_mask.cpu(), cmap='gray')\n",
        "#plt.imsave('filename.png', pred_mask.cpu(), cmap=cm.gray)\n",
        "plt.figure()\n",
        "\n",
        "\n",
        "\n",
        "\"\"\""
      ],
      "execution_count": null,
      "outputs": []
    },
    {
      "cell_type": "code",
      "metadata": {
        "id": "2YZQZgXl92RN"
      },
      "source": [
        "\"\"\" test test image mask\n",
        "my_data_list = DatasetCatalog.get(\"plane_{}\".format('test'))\n",
        "sample = my_data_list[27]\n",
        "#print(len(sample[\"annotations\"]))\n",
        "img, gt_mask, pred_mask = get_prediction_test(sample,test_crop)\n",
        "\n",
        "\n",
        "plt.imshow(img, cmap='gray')\n",
        "#plt.imsave('testimage1.png', img#, cmap=cm.gray)\n",
        "plt.figure()\n",
        "\n",
        "plt.imshow(gt_mask, cmap='gray')\n",
        "plt.imsave('testpredict3.png', gt_mask, cmap=cm.gray)\n",
        "plt.figure()\n",
        "plt.imshow(pred_mask.cpu(), cmap='gray')\n",
        "#plt.imsave('filename.png', pred_mask, cmap=cm.gray)\n",
        "plt.figure()\n",
        "\"\"\""
      ],
      "execution_count": null,
      "outputs": []
    },
    {
      "cell_type": "code",
      "metadata": {
        "id": "d9WBDqQHJ12F"
      },
      "source": [
        " #visualize test obj_mask\n",
        "\"\"\"\n",
        "my_data_list = DatasetCatalog.get(\"plane_{}\".format('test'))\n",
        "sample = my_data_list[11]\n",
        "#print(len(sample[\"annotations\"]))\n",
        "img, gt_mask, pred_mask = get_prediction_test(sample,test_crop)\n",
        " \n",
        "\n",
        "obj_img, obj_mask = get_instance_sample(sample, 9, test_crop)\n",
        "plt.imshow(obj_img, cmap='gray')\n",
        "plt.imsave('plane3.png', obj_img, cmap=cm.gray)\n",
        "plt.figure()\n",
        "plt.imshow(obj_mask, cmap='gray')\n",
        "plt.imsave('planepredict3.png', obj_mask, cmap=cm.gray)\n",
        "plt.figure()\n",
        "\"\"\""
      ],
      "execution_count": null,
      "outputs": []
    },
    {
      "cell_type": "markdown",
      "metadata": {
        "id": "fc7TSK6EBi9u"
      },
      "source": [
        "### Visualization and Submission"
      ]
    },
    {
      "cell_type": "code",
      "metadata": {
        "id": "H7T2YX8MBiGO"
      },
      "source": [
        "'''\n",
        "# Visualise the output prediction as well as the GT Mask and Input image for a sample input\n",
        "# TODO: approx 10 lines\n",
        "'''\n",
        "\n"
      ],
      "execution_count": null,
      "outputs": []
    },
    {
      "cell_type": "code",
      "metadata": {
        "id": "uPo_03up-g_f"
      },
      "source": [
        "'''\n",
        "# ref: https://www.kaggle.com/rakhlin/fast-run-length-encoding-python\n",
        "# https://www.kaggle.com/c/airbus-ship-detection/overview/evaluation\n",
        "'''\n",
        "def rle_encoding(x):\n",
        "    '''\n",
        "    x: numpy array, 1 - mask, 0 - background\n",
        "    Returns run length as list\n",
        "    '''\n",
        "    dots = torch.where(torch.flatten(x.long())==1)[0]\n",
        "    if(len(dots)==0):\n",
        "      return []\n",
        "    inds = torch.where(dots[1:]!=dots[:-1]+1)[0]+1\n",
        "    inds = torch.cat((torch.tensor([0], device=torch.device('cuda'), dtype=torch.long), inds))\n",
        "    tmpdots = dots[inds]\n",
        "    inds = torch.cat((inds, torch.tensor([len(dots)], device=torch.device('cuda'))))\n",
        "    inds = inds[1:] - inds[:-1]\n",
        "    runs = torch.cat((tmpdots, inds)).reshape((2,-1))\n",
        "    runs = torch.flatten(torch.transpose(runs, 0, 1)).cpu().data.numpy()\n",
        "    return ' '.join([str(i) for i in runs])"
      ],
      "execution_count": null,
      "outputs": []
    },
    {
      "cell_type": "code",
      "metadata": {
        "id": "zv0rab2LJev-"
      },
      "source": [
        "'''\n",
        "# You need to upload the csv file on kaggle\n",
        "# The speed of your code in the previous parts highly affects the running time of this part\n",
        "'''\n",
        "\n",
        "preddic = {\"ImageId\": [], \"EncodedPixels\": []}\n",
        "\n",
        "'''\n",
        "# Writing the predictions of the training set\n",
        "'''\n",
        "\n",
        "my_data_list = DatasetCatalog.get(\"plane_{}\".format('train'))\n",
        "for i in tqdm(range(len(my_data_list)), position=0, leave=True):\n",
        "  sample = my_data_list[i]\n",
        "  sample['image_id'] = sample['file_name'].split(\"/\")[-1][:-4]\n",
        "  #print(sample)\n",
        "  #print(i)\n",
        "  img, true_mask, pred_mask = get_prediction_mask(sample,cropped)\n",
        "  inds = torch.unique(pred_mask)\n",
        "  if(len(inds)==1):\n",
        "    preddic['ImageId'].append(sample['image_id'])\n",
        "    preddic['EncodedPixels'].append([])\n",
        "  else:\n",
        "    for index in inds:\n",
        "      if(index == 0):\n",
        "        continue\n",
        "      tmp_mask = (pred_mask==index)\n",
        "      encPix = rle_encoding(tmp_mask)\n",
        "      preddic['ImageId'].append(sample['image_id'])\n",
        "      preddic['EncodedPixels'].append(encPix)\n",
        "\n",
        "'''\n",
        "# Writing the predictions of the test set\n",
        "'''\n",
        "\n",
        "my_data_list = DatasetCatalog.get(\"plane_{}\".format('test'))\n",
        "for i in tqdm(range(len(my_data_list)), position=0, leave=True):\n",
        "  sample = my_data_list[i]\n",
        "  sample['image_id'] = sample['file_name'].split(\"/\")[-1][:-4]\n",
        "\n",
        "  img, true_mask, pred_mask = get_prediction_test(sample,test_crop)\n",
        "  inds = torch.unique(pred_mask)\n",
        "  if(len(inds)==1):\n",
        "    preddic['ImageId'].append(sample['image_id'])\n",
        "    preddic['EncodedPixels'].append([])\n",
        "  else:\n",
        "    for j, index in enumerate(inds):\n",
        "      if(index == 0):\n",
        "        continue\n",
        "      tmp_mask = (pred_mask==index).double()\n",
        "      encPix = rle_encoding(tmp_mask)\n",
        "      preddic['ImageId'].append(sample['image_id'])\n",
        "      preddic['EncodedPixels'].append(encPix)\n",
        "\n",
        "pred_file = open(\"{}/pred.csv\".format(BASE_DIR), 'w')\n",
        "pd.DataFrame(preddic).to_csv(pred_file, index=False)\n",
        "pred_file.close()\n"
      ],
      "execution_count": null,
      "outputs": []
    },
    {
      "cell_type": "markdown",
      "metadata": {
        "id": "p7nN4SduqrpI"
      },
      "source": [
        "## Part 4: Mask R-CNN\n",
        "\n",
        "For this part you need to follow a same procedure to part 2 with the configs of Mask R-CNN, other parts are generally the same as part 2."
      ]
    },
    {
      "cell_type": "markdown",
      "metadata": {
        "id": "axWf7drKNXYd"
      },
      "source": [
        "### Data Loader"
      ]
    },
    {
      "cell_type": "code",
      "metadata": {
        "id": "yC1FDCcQN2LH"
      },
      "source": [
        "cfg = get_cfg()\n",
        "cfg.OUTPUT_DIR = \"{}/output/\".format(BASE_DIR)\n",
        "\n",
        "#cfg.merge_from_file(model_zoo.get_config_file(\"COCO-Detection/faster_rcnn_R_101_FPN_3x.yaml\"))\n",
        "cfg.merge_from_file(model_zoo.get_config_file(\"COCO-InstanceSegmentation/mask_rcnn_R_50_FPN_3x.yaml\"))\n",
        "cfg.DATASETS.TRAIN = (\"plane_train\",)\n",
        "cfg.DATASETS.TEST = (\"plane_test\",)\n",
        "\n",
        "cfg.DATALOADER.NUM_WORKERS = 4\n",
        "#cfg.MODEL.WEIGHTS = model_zoo.get_checkpoint_url(\"COCO-Detection/faster_rcnn_R_101_FPN_3x.yaml\")  # Let training initialize from model zoo\n",
        "cfg.MODEL.WEIGHTS = model_zoo.get_checkpoint_url(\"COCO-InstanceSegmentation/mask_rcnn_R_50_FPN_3x.yaml\")  # Let training initialize from model zoo\n",
        "cfg.SOLVER.IMS_PER_BATCH = 2\n",
        "cfg.SOLVER.BASE_LR = 0.00025 \n",
        "cfg.SOLVER.MAX_ITER = 1500  \n",
        "cfg.MODEL.ROI_HEADS.BATCH_SIZE_PER_IMAGE = 512   \n",
        "cfg.MODEL.ROI_HEADS.NUM_CLASSES = 1  \n",
        "\n"
      ],
      "execution_count": 14,
      "outputs": []
    },
    {
      "cell_type": "markdown",
      "metadata": {
        "id": "lG5slAhQNjE7"
      },
      "source": [
        "### Network"
      ]
    },
    {
      "cell_type": "markdown",
      "metadata": {
        "id": "t7ifeV1sNvtt"
      },
      "source": [
        "### Training"
      ]
    },
    {
      "cell_type": "code",
      "metadata": {
        "id": "KG1pnKLMOcjS"
      },
      "source": [
        "os.makedirs(cfg.OUTPUT_DIR, exist_ok=True)\n",
        "trainer = DefaultTrainer(cfg) \n",
        "trainer.resume_or_load(resume=False)   #default False\n",
        "\n",
        "trainer.train()\n",
        "\n"
      ],
      "execution_count": null,
      "outputs": []
    },
    {
      "cell_type": "markdown",
      "metadata": {
        "id": "298QruFnNxyn"
      },
      "source": [
        "### Evaluation and Visualization"
      ]
    },
    {
      "cell_type": "code",
      "metadata": {
        "id": "KcGwV5-9Oetp"
      },
      "source": [
        "cfg.MODEL.WEIGHTS = os.path.join(cfg.OUTPUT_DIR, \"model_final.pth\")  # path to the model we just trained\n",
        "cfg.MODEL.ROI_HEADS.SCORE_THRESH_TEST = 0.6   # set a custom testing threshold\n",
        "predictor = DefaultPredictor(cfg)"
      ],
      "execution_count": 17,
      "outputs": []
    },
    {
      "cell_type": "code",
      "metadata": {
        "id": "l_3wS2BFLLGp"
      },
      "source": [
        "print(OUTPUT_DIR)\n",
        "\n",
        "evaluator = COCOEvaluator(\"plane_train\", cfg, False, output_dir= \"./output/\")\n",
        "val_loader = build_detection_test_loader(cfg, \"plane_train\")\n",
        "print(inference_on_dataset(trainer.model, val_loader, evaluator))"
      ],
      "execution_count": null,
      "outputs": []
    },
    {
      "cell_type": "code",
      "metadata": {
        "id": "baHLYnR8L4K4"
      },
      "source": [
        "dataset_dicts = get_detection_data(\"test\")\n",
        "count = 0\n",
        "for d in random.sample(dataset_dicts, 3):  \n",
        "    count +=1\n",
        "    im = cv2.imread(d[\"file_name\"])\n",
        "    outputs = predictor(im)  # format is documented at https://detectron2.readthedocs.io/tutorials/models.html#model-output-format\n",
        "\n",
        "    #print(outputs[\"instances\"])\n",
        "\n",
        "    \n",
        "    \n",
        "    #print(one_img)\n",
        "    v = Visualizer(im[:, :, ::-1],\n",
        "                   metadata=balloon_metadata, \n",
        "                   scale=0.3, \n",
        "                    # remove the colors of unsegmented pixels. This option is only available for segmentation models\n",
        "    )\n",
        "    out = v.draw_instance_predictions(outputs[\"instances\"].to(\"cpu\"))\n",
        "    cv2_imshow(out.get_image()[:, :, ::-1])\n",
        "    cv2.imwrite(\"part4predict{}.png\".format(count), out.get_image()[:, :, ::-1])\n",
        "   "
      ],
      "execution_count": null,
      "outputs": []
    }
  ]
}